Week 2 : Numbers and String
2019 Summer
Human Factors Psychology Lab, SNU
Jehun Hong
1. Numbers
숫자 형태로 이루어진 자료형 (자연수, 정수, 실수 모두 포함)
10진법으로 된 숫자 표기 외에도 8진법, 16진법 등으로 표기하는 것도 가능
(1) Integer : 정수를 뜻하는 자료형
In [109]:
>>> a = 35
>>> a = 0
>>> a = -34
(2) Floating-Point : 실수 중 소숫점이 포함된 문자
In [110]:
>>> a = 43.76947
>>> a = -74.36
>>> a = 5.35E10
>>> a = 6.3e-10
